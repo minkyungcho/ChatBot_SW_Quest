{
  "nbformat": 4,
  "nbformat_minor": 0,
  "metadata": {
    "colab": {
      "name": "pandas.ipynb",
      "provenance": [],
      "collapsed_sections": [],
      "authorship_tag": "ABX9TyPtz6S25gYcwBkPXXLvVjAq",
      "include_colab_link": true
    },
    "kernelspec": {
      "name": "python3",
      "display_name": "Python 3"
    }
  },
  "cells": [
    {
      "cell_type": "markdown",
      "metadata": {
        "id": "view-in-github",
        "colab_type": "text"
      },
      "source": [
        "<a href=\"https://colab.research.google.com/github/minkyungcho/ChatBot_SW_Quest/blob/master/pandas.ipynb\" target=\"_parent\"><img src=\"https://colab.research.google.com/assets/colab-badge.svg\" alt=\"Open In Colab\"/></a>"
      ]
    },
    {
      "cell_type": "code",
      "metadata": {
        "id": "6tNxH1_YdD36",
        "colab_type": "code",
        "colab": {
          "base_uri": "https://localhost:8080/",
          "height": 503
        },
        "outputId": "ea680e70-b529-49d8-d5c1-ac45046f60f4"
      },
      "source": [
        "# Series 객체 생성\n",
        "import pandas as pd\n",
        "data = ['2016', '2017', '2018', '2019']\n",
        "result = pd.Series(data)\n",
        "print(result)\n",
        "\n",
        "# Series 객체 속성\n",
        "# series 객체의 인덱스\n",
        "result.index\n",
        "\n",
        "# Series 객체의 모든 데이터 값(value)\n",
        "result.values\n",
        "\n",
        "# Series 객체 속성 변경\n",
        "# 객체의 이름 지정하기\n",
        "result.name = 'Year'\n",
        "print(result)\n",
        "\n",
        "# 객체의 인덱스명 지정하기\n",
        "result.index.name = 'No'\n",
        "print(result)\n",
        "\n",
        "# 인덱스를 지정하여 series 객체 생성하기\n",
        "result = pd.Series(data, index=['a','b','c','d'])\n",
        "print(result)\n",
        "result.index\n",
        "\n",
        "# 딕셔너리를 이용하 series 객체 생성하기 {'인덱스값':'값', ...}\n",
        "score = {'Kim':85, 'Hwang':100, 'Lee':99, 'Choi':80}\n",
        "result = pd.Series(score)\n",
        "print(result)\n",
        "result.index\n",
        "result.values\n",
        "\n",
        "# Series 객체 접근\n",
        "# 인덱스를 통해 접근\n",
        "result['Lee']\n",
        "result['Hwang']"
      ],
      "execution_count": 16,
      "outputs": [
        {
          "output_type": "stream",
          "text": [
            "0    2016\n",
            "1    2017\n",
            "2    2018\n",
            "3    2019\n",
            "dtype: object\n",
            "0    2016\n",
            "1    2017\n",
            "2    2018\n",
            "3    2019\n",
            "Name: Year, dtype: object\n",
            "No\n",
            "0    2016\n",
            "1    2017\n",
            "2    2018\n",
            "3    2019\n",
            "Name: Year, dtype: object\n",
            "a    2016\n",
            "b    2017\n",
            "c    2018\n",
            "d    2019\n",
            "dtype: object\n",
            "Kim       85\n",
            "Hwang    100\n",
            "Lee       99\n",
            "Choi      80\n",
            "dtype: int64\n"
          ],
          "name": "stdout"
        },
        {
          "output_type": "execute_result",
          "data": {
            "text/plain": [
              "100"
            ]
          },
          "metadata": {
            "tags": []
          },
          "execution_count": 16
        }
      ]
    },
    {
      "cell_type": "code",
      "metadata": {
        "id": "0hr17hvwhRBj",
        "colab_type": "code",
        "colab": {
          "base_uri": "https://localhost:8080/",
          "height": 575
        },
        "outputId": "6ae6e330-815e-4446-9ec4-5a35f656333e"
      },
      "source": [
        "import pandas as pd\n",
        "# DataFrame 객체 생성\n",
        "# DataFrame 을 구성할 데이터는 파이썬의 딕셔너리로 정의할 수 있다.\n",
        "# 딕셔너리 형태로 데이터 구성하기\n",
        "data = {'name':['Lee', 'Hwang', 'Kim', 'Choi'],'score':[100,95,90,85], 'grade':['A','A','B','B']}\n",
        "\n",
        "# 행과 열을 가진 데이터 구조가 생성된다.\n",
        "df = pd.DataFrame(data)\n",
        "print(df)\n",
        "# index\n",
        "print(df.index)\n",
        "# 컬럼\n",
        "print(df.columns)\n",
        "# 데이터 값 value\n",
        "print(df.values)\n",
        "# index, columns 명 지정\n",
        "df.index.name = 'No'\n",
        "df.columns.name = 'Info'\n",
        "print(df)\n",
        "# 각 column 지정하여 dataframe 객체 생성하기\n",
        "data = {'name':['Lee','Hwang','Kim','Choi'], 'score':[100,95,90,85], 'grade':['A','A','B','B']}\n",
        "c = ['name', 'grade', 'score', 'etc']\n",
        "df1 = pd.DataFrame(data)\n",
        "df2 = pd.DataFrame(data, columns=c)\n",
        "print(df1)\n",
        "print(df2)\n",
        "# df2 객체는 column의 순서가 변경되었고, NaN라는 데이터를 가진 새로운 etc 열이 추가됨\n",
        "\n",
        "# NaN(Not a Number)\n",
        "# 새로운 행/열이 추가 되었는데 초기화된 값이 없다면, NaN으로 채워지고, 이는 null 과 유사한 개념이다.\n",
        "score = {'Kim':85,'Hwang':100, 'Lee':99, 'Choi':80}\n",
        "students = ['Hwang', 'Lee', 'Woo']\n",
        "result = pd.Series(score, index=students)\n",
        "print(result)"
      ],
      "execution_count": 28,
      "outputs": [
        {
          "output_type": "stream",
          "text": [
            "    name  score grade\n",
            "0    Lee    100     A\n",
            "1  Hwang     95     A\n",
            "2    Kim     90     B\n",
            "3   Choi     85     B\n",
            "RangeIndex(start=0, stop=4, step=1)\n",
            "Index(['name', 'score', 'grade'], dtype='object')\n",
            "[['Lee' 100 'A']\n",
            " ['Hwang' 95 'A']\n",
            " ['Kim' 90 'B']\n",
            " ['Choi' 85 'B']]\n",
            "Info   name  score grade\n",
            "No                      \n",
            "0       Lee    100     A\n",
            "1     Hwang     95     A\n",
            "2       Kim     90     B\n",
            "3      Choi     85     B\n",
            "    name  score grade\n",
            "0    Lee    100     A\n",
            "1  Hwang     95     A\n",
            "2    Kim     90     B\n",
            "3   Choi     85     B\n",
            "    name grade  score  etc\n",
            "0    Lee     A    100  NaN\n",
            "1  Hwang     A     95  NaN\n",
            "2    Kim     B     90  NaN\n",
            "3   Choi     B     85  NaN\n",
            "Hwang    100.0\n",
            "Lee       99.0\n",
            "Woo        NaN\n",
            "dtype: float64\n"
          ],
          "name": "stdout"
        }
      ]
    },
    {
      "cell_type": "code",
      "metadata": {
        "id": "nQhD1JP_oL5O",
        "colab_type": "code",
        "colab": {
          "base_uri": "https://localhost:8080/",
          "height": 521
        },
        "outputId": "7cd10b52-4483-4813-caa8-c762e010a29b"
      },
      "source": [
        "# DataFrame 객체 생성 연습\n",
        "import pandas as pd\n",
        "data = {'name':['David', 'Roy', 'Tina', 'Kim'], 'score':[78,64,70,62], 'grade':['C','D','C','D']}\n",
        "df = pd.DataFrame(data)\n",
        "df.index.name = \"No\"\n",
        "df.columns.name = \"Info\"\n",
        "print(df)\n",
        "\n",
        "c = ['name', 'grade', 'score', 'etc']\n",
        "df2 = pd.DataFrame(data, columns=c)\n",
        "print(df2)\n",
        "\n",
        "# 인덱스 조회\n",
        "print(df.index)\n",
        "print(df2.index)\n",
        "# 컬럼 조회\n",
        "print(df.columns)\n",
        "print(df2.columns)\n",
        "# 데이터값 조회\n",
        "print(df.values)\n",
        "print(df2.values)\n",
        "\n",
        "# etc 열 값을 아래와 같이 지정하여 변경\n",
        "df2['etc'] = [99,88,77,66]\n",
        "print(df2)"
      ],
      "execution_count": 50,
      "outputs": [
        {
          "output_type": "stream",
          "text": [
            "Info   name  score grade\n",
            "No                      \n",
            "0     David     78     C\n",
            "1       Roy     64     D\n",
            "2      Tina     70     C\n",
            "3       Kim     62     D\n",
            "    name grade  score  etc\n",
            "0  David     C     78  NaN\n",
            "1    Roy     D     64  NaN\n",
            "2   Tina     C     70  NaN\n",
            "3    Kim     D     62  NaN\n",
            "RangeIndex(start=0, stop=4, step=1, name='No')\n",
            "RangeIndex(start=0, stop=4, step=1)\n",
            "Index(['name', 'score', 'grade'], dtype='object', name='Info')\n",
            "Index(['name', 'grade', 'score', 'etc'], dtype='object')\n",
            "[['David' 78 'C']\n",
            " ['Roy' 64 'D']\n",
            " ['Tina' 70 'C']\n",
            " ['Kim' 62 'D']]\n",
            "[['David' 'C' 78 nan]\n",
            " ['Roy' 'D' 64 nan]\n",
            " ['Tina' 'C' 70 nan]\n",
            " ['Kim' 'D' 62 nan]]\n",
            "    name grade  score  etc\n",
            "0  David     C     78   99\n",
            "1    Roy     D     64   88\n",
            "2   Tina     C     70   77\n",
            "3    Kim     D     62   66\n"
          ],
          "name": "stdout"
        }
      ]
    },
    {
      "cell_type": "code",
      "metadata": {
        "id": "mdFJkxSzq0Pu",
        "colab_type": "code",
        "colab": {
          "base_uri": "https://localhost:8080/",
          "height": 737
        },
        "outputId": "0a6e8387-de36-4d93-fe1e-4e33d37f40f5"
      },
      "source": [
        "import pandas as pd\n",
        "data = {'name':['Lee','Hwang','Kim','Choi'], 'score':[100,95,90,85], 'grade':['A','A','B','B']}\n",
        "c = ['name', 'grade', 'score', 'etc']\n",
        "df1 = pd.DataFrame(data)\n",
        "df2 = pd.DataFrame(data, columns=c)\n",
        "print(df1)\n",
        "print(df2)\n",
        "\n",
        "# 객체의 열 데이터 가져오기\n",
        "print(df2['name'])\n",
        "print(df2.name)\n",
        "# 복수개의 열 데이터 가져오기\n",
        "print(df2[['name','grade']])\n",
        "print(df2[['etc','name']])\n",
        "# 특정 열의 값을 각각 지정하여 변경할 수 있다.\n",
        "df2['etc'] = [11,22,33,44]\n",
        "print(df2)\n",
        "# 특정 열의 값을 일괄적으로 변경할 수 있다.\n",
        "df2['etc'] = 0\n",
        "print(df2)"
      ],
      "execution_count": 48,
      "outputs": [
        {
          "output_type": "stream",
          "text": [
            "    name  score grade\n",
            "0    Lee    100     A\n",
            "1  Hwang     95     A\n",
            "2    Kim     90     B\n",
            "3   Choi     85     B\n",
            "    name grade  score  etc\n",
            "0    Lee     A    100  NaN\n",
            "1  Hwang     A     95  NaN\n",
            "2    Kim     B     90  NaN\n",
            "3   Choi     B     85  NaN\n",
            "0      Lee\n",
            "1    Hwang\n",
            "2      Kim\n",
            "3     Choi\n",
            "Name: name, dtype: object\n",
            "0      Lee\n",
            "1    Hwang\n",
            "2      Kim\n",
            "3     Choi\n",
            "Name: name, dtype: object\n",
            "    name grade\n",
            "0    Lee     A\n",
            "1  Hwang     A\n",
            "2    Kim     B\n",
            "3   Choi     B\n",
            "   etc   name\n",
            "0  NaN    Lee\n",
            "1  NaN  Hwang\n",
            "2  NaN    Kim\n",
            "3  NaN   Choi\n",
            "    name grade  score  etc\n",
            "0    Lee     A    100   11\n",
            "1  Hwang     A     95   22\n",
            "2    Kim     B     90   33\n",
            "3   Choi     B     85   44\n",
            "    name grade  score  etc\n",
            "0    Lee     A    100    0\n",
            "1  Hwang     A     95    0\n",
            "2    Kim     B     90    0\n",
            "3   Choi     B     85    0\n"
          ],
          "name": "stdout"
        }
      ]
    },
    {
      "cell_type": "code",
      "metadata": {
        "id": "fhyGFMVRs1hX",
        "colab_type": "code",
        "colab": {
          "base_uri": "https://localhost:8080/",
          "height": 863
        },
        "outputId": "51a7bcb1-45d0-4d41-d749-2c37b44b534b"
      },
      "source": [
        "import pandas as pd\n",
        "import numpy as np\n",
        "data = {'name':['Lee','Hwang','Kim','Choi'], 'score':[100,95,90,85], 'grade':['A','A','B','B']}\n",
        "df2 = pd.DataFrame(data)\n",
        "df2['etc'] = np.zeros(4)\n",
        "print(df2)\n",
        "# Series 객체를 이용하여 열 데이터를 추가할 수 있다.\n",
        "points = pd.Series([1.5, 1.7, 2.4], index=[0,1,2])\n",
        "print(points)\n",
        "df2['points'] = points\n",
        "print(df2)\n",
        "# 연산을 통해 열 데이터를 추가할 수 있다.\n",
        "df2['high_score'] = df2['score'] > 90\n",
        "print(df2) # 연산 결과인 boolean 값이 저장된다\n",
        "\n",
        "# loc() 함수를 이용하여 행 데이터를 추가할 수 있다.\n",
        "# loc[행조건, 열조건]\n",
        "df2.loc[5, :] = ['Su', 'C', 70, 0.0, 1.1, False]\n",
        "print(df2)\n",
        "\n",
        "# del 명령어를 이용하여 열 데이터를 삭제할 수 있다.\n",
        "del df2['etc']\n",
        "print(df2)\n",
        "\n",
        "# drop 을 이용하여 행 데이터를 삭제할 수 있다.\n",
        "new_obj = df2.drop(5) # 삭제되고 난 새로운 객체를 얻을 수 있다. 기존 데이터는 삭제되지 않는다.\n",
        "print(df2) # 조회해보면 기존 데이터가 살아있는 것을 볼 수 있다.\n",
        "print(new_obj) \n",
        "# 기존 객체의 데이터를 삭제하고 싶다면?\n",
        "df2.drop(5, inplace=True)\n",
        "print(df2)\n"
      ],
      "execution_count": 67,
      "outputs": [
        {
          "output_type": "stream",
          "text": [
            "    name  score grade  etc\n",
            "0    Lee    100     A  0.0\n",
            "1  Hwang     95     A  0.0\n",
            "2    Kim     90     B  0.0\n",
            "3   Choi     85     B  0.0\n",
            "0    1.5\n",
            "1    1.7\n",
            "2    2.4\n",
            "dtype: float64\n",
            "    name  score grade  etc  points\n",
            "0    Lee    100     A  0.0     1.5\n",
            "1  Hwang     95     A  0.0     1.7\n",
            "2    Kim     90     B  0.0     2.4\n",
            "3   Choi     85     B  0.0     NaN\n",
            "    name  score grade  etc  points  high_score\n",
            "0    Lee    100     A  0.0     1.5        True\n",
            "1  Hwang     95     A  0.0     1.7        True\n",
            "2    Kim     90     B  0.0     2.4       False\n",
            "3   Choi     85     B  0.0     NaN       False\n",
            "    name score grade  etc  points  high_score\n",
            "0    Lee   100     A  0.0     1.5        True\n",
            "1  Hwang    95     A  0.0     1.7        True\n",
            "2    Kim    90     B  0.0     2.4       False\n",
            "3   Choi    85     B  0.0     NaN       False\n",
            "5     Su     C    70  0.0     1.1       False\n",
            "    name score grade  points  high_score\n",
            "0    Lee   100     A     1.5        True\n",
            "1  Hwang    95     A     1.7        True\n",
            "2    Kim    90     B     2.4       False\n",
            "3   Choi    85     B     NaN       False\n",
            "5     Su     C    70     1.1       False\n",
            "    name score grade  points  high_score\n",
            "0    Lee   100     A     1.5        True\n",
            "1  Hwang    95     A     1.7        True\n",
            "2    Kim    90     B     2.4       False\n",
            "3   Choi    85     B     NaN       False\n",
            "5     Su     C    70     1.1       False\n",
            "    name score grade  points  high_score\n",
            "0    Lee   100     A     1.5        True\n",
            "1  Hwang    95     A     1.7        True\n",
            "2    Kim    90     B     2.4       False\n",
            "3   Choi    85     B     NaN       False\n",
            "    name score grade  points  high_score\n",
            "0    Lee   100     A     1.5        True\n",
            "1  Hwang    95     A     1.7        True\n",
            "2    Kim    90     B     2.4       False\n",
            "3   Choi    85     B     NaN       False\n"
          ],
          "name": "stdout"
        }
      ]
    }
  ]
}